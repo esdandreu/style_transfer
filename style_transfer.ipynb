{
 "metadata": {
  "language_info": {
   "codemirror_mode": {
    "name": "ipython",
    "version": 3
   },
   "file_extension": ".py",
   "mimetype": "text/x-python",
   "name": "python",
   "nbconvert_exporter": "python",
   "pygments_lexer": "ipython3",
   "version": "3.8.4-final"
  },
  "orig_nbformat": 2,
  "kernelspec": {
   "name": "python3",
   "display_name": "Python 3",
   "language": "python"
  }
 },
 "nbformat": 4,
 "nbformat_minor": 2,
 "cells": [
  {
   "source": [
    "# Set up the repository"
   ],
   "cell_type": "markdown",
   "metadata": {}
  },
  {
   "cell_type": "code",
   "execution_count": null,
   "metadata": {},
   "outputs": [],
   "source": [
    "RunningInCOLAB = 'google.colab' in str(get_ipython())"
   ]
  },
  {
   "cell_type": "code",
   "execution_count": null,
   "metadata": {},
   "outputs": [],
   "source": [
    "if RunningInCOLAB:\n",
    "    # Move to the root\n",
    "    import os\n",
    "    os.chdir('/content')\n",
    "    !git clone https://gitlab.com/jemaro/wut/neural-networks/style-transfer\n",
    "    !cd style-transfer; git pull"
   ]
  },
  {
   "source": [
    "# Run the style transfer"
   ],
   "cell_type": "markdown",
   "metadata": {}
  },
  {
   "cell_type": "code",
   "execution_count": null,
   "metadata": {},
   "outputs": [],
   "source": [
    "if RunningInCOLAB:\n",
    "    # Move to the repository\n",
    "    import os\n",
    "    os.chdir('/content/style-transfer')"
   ]
  },
  {
   "cell_type": "code",
   "execution_count": null,
   "metadata": {},
   "outputs": [],
   "source": [
    "from pathlib import Path\n",
    "from datetime import datetime\n",
    "\n",
    "from style_transfer import run_style_transfer\n",
    "from style_transfer.config import STYLE_FOLDER, CONTENT_FOLDER\n",
    "from style_transfer._logging import config_logger\n",
    "\n",
    "OUTPUT_FOLDER='/content/drive/MyDrive/style_transfer'\n",
    "\n",
    "# Create output folder\n",
    "run_folder = Path(OUTPUT_FOLDER, datetime.now().strftime('%Y%m%d_%H%M%S'))\n",
    "run_folder.mkdir(parents=True,exist_ok=True)\n",
    "\n",
    "logger = config_logger(output_folder=OUTPUT_FOLDER)\n",
    "\n",
    "logger.info('Start run')\n",
    "\n",
    "for content_path in CONTENT_FOLDER.iterdir():\n",
    "    if not content_path.is_file():\n",
    "        continue\n",
    "    for style_path in STYLE_FOLDER.iterdir():\n",
    "        if not style_path.is_file():\n",
    "            continue\n",
    "        logger.info(\n",
    "            'Start style transfer:'\n",
    "            f'\\ncontent:{content_path}\\nstyle:{style_path}'\n",
    "            )\n",
    "        run_style_transfer(\n",
    "            content_path=Path(content_path),\n",
    "            style_path=Path(style_path),\n",
    "            output_folder=run_folder, \n",
    "            num_iterations=1000,\n",
    "            content_weight=1e3, \n",
    "            style_weight=1e-2,\n",
    "            verbose=False,\n",
    "            log_images=True,\n",
    "            )\n",
    "        break\n",
    "    break\n",
    "            \n",
    "logger.info('Finished run')"
   ]
  }
 ]
}