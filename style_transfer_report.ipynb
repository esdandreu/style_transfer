{
 "metadata": {
  "language_info": {
   "codemirror_mode": {
    "name": "ipython",
    "version": 3
   },
   "file_extension": ".py",
   "mimetype": "text/x-python",
   "name": "python",
   "nbconvert_exporter": "python",
   "pygments_lexer": "ipython3",
   "version": 3
  },
  "orig_nbformat": 2
 },
 "nbformat": 4,
 "nbformat_minor": 2,
 "cells": [
  {
   "source": [
    "# Utils"
   ],
   "cell_type": "markdown",
   "metadata": {}
  },
  {
   "cell_type": "code",
   "execution_count": null,
   "metadata": {},
   "outputs": [],
   "source": [
    "from typing import List, Union, Optional\n",
    "from pathlib import Path\n",
    "\n",
    "# Build path\n",
    "def output_folder(\n",
    "    run_folder: Union[Path,str],\n",
    "    content: str, \n",
    "    style: str,\n",
    "    content_layers: Union[List[str],str] = ['block5_conv2'],\n",
    "    style_layers: Union[List[str],str] = [\n",
    "        'block1_conv1',\n",
    "        'block2_conv1',\n",
    "        'block3_conv1', \n",
    "        'block4_conv1', \n",
    "        'block5_conv1'\n",
    "        ],\n",
    "    pre_training: bool = True,\n",
    "    learning_rate: float = 5,\n",
    "    beta_1: float = 0.99,\n",
    "    beta_2: float = 0.999,\n",
    "    epsilon: float = 1e-07,\n",
    "    amsgrad: bool = False,\n",
    "    content_weight: float = 1e3, \n",
    "    style_weight: float = 1e-2,\n",
    "    num_iterations: int = 1000,\n",
    "    ) -> Path:\n",
    "    pass\n",
    "\n",
    "def options_list(\n",
    "    run_folder: Union[Path,str],\n",
    "    parameter: str,\n",
    "    ) -> List[Union[str,bool,float,int]]:\n",
    "    return []\n",
    "\n",
    "def clean_folder(folder: Union[Path,str]):\n",
    "    folder = Path(folder)\n",
    "    if not folder.is_dir():\n",
    "        _clean_folder(f)\n",
    "    return\n",
    "\n",
    "def _clean_folder(folder: Path):\n"
   ]
  },
  {
   "cell_type": "code",
   "execution_count": null,
   "metadata": {},
   "outputs": [],
   "source": [
    "def loss_plot(output_folder: Path):\n",
    "    pass\n",
    "\n",
    "def imshow(output_folder: Path, iterations: Optional[int] = None):\n",
    "    pass"
   ]
  }
 ]
}