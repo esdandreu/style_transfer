{
  "nbformat": 4,
  "nbformat_minor": 0,
  "metadata": {
    "colab": {
      "name": "style_transfer_report.ipynb",
      "private_outputs": true,
      "provenance": [],
      "collapsed_sections": [
        "YzxRCEvkmvZH"
      ]
    },
    "kernelspec": {
      "name": "python3",
      "display_name": "Python 3"
    }
  },
  "cells": [
    {
      "cell_type": "markdown",
      "metadata": {
        "id": "3iURFMlWmK7M"
      },
      "source": [
        "# Setup"
      ]
    },
    {
      "cell_type": "markdown",
      "metadata": {
        "id": "HCMlp9o3m1kW"
      },
      "source": [
        "## Repository and Libraries"
      ]
    },
    {
      "cell_type": "code",
      "metadata": {
        "id": "d_bNliy5vp3O"
      },
      "source": [
        "if 'google.colab' in str(get_ipython()):\r\n",
        "    # Move to the root\r\n",
        "    import os\r\n",
        "    os.chdir('/content')\r\n",
        "    !git clone https://gitlab.com/jemaro/wut/neural-networks/style-transfer\r\n",
        "    !cd style-transfer; git pull"
      ],
      "execution_count": null,
      "outputs": []
    },
    {
      "cell_type": "code",
      "metadata": {
        "id": "8p90PJ0Ajj5Q"
      },
      "source": [
        "if 'google.colab' in str(get_ipython()):\r\n",
        "    from google.colab import files\r\n",
        "\r\n",
        "    # Move to the repository\r\n",
        "    import os\r\n",
        "    os.chdir('/content/style-transfer')\r\n",
        "else:\r\n",
        "    import tkinter as tk\r\n",
        "\r\n",
        "from style_transfer import Experiment, config_logger\r\n",
        "from style_transfer.experiment import (\r\n",
        "    DEFAULTS, CONTENT, STYLE, CONTENT_LAYERS, STYLE_LAYERS, PRE_TRAINING,\r\n",
        "    LEARNING_RATE, BETA_1, BETA_2, EPSILON, AMSGRAD, CONTENT_WEIGHT, \r\n",
        "    STYLE_WEIGHT, NUM_ITERATIONS,\r\n",
        "    )\r\n",
        "\r\n",
        "%matplotlib inline\r\n",
        "import matplotlib.pyplot as plt\r\n",
        "plt.style.use('fivethirtyeight')\r\n",
        "import matplotlib as mpl\r\n",
        "mpl.rcParams['figure.figsize'] = (20,20)\r\n",
        "mpl.rcParams['axes.grid'] = False\r\n",
        "mpl.rcParams['font.size'] = 22\r\n",
        "\r\n",
        "from ipywidgets import (\r\n",
        "    interact, fixed, Layout, HBox,\r\n",
        "    Checkbox, SelectionSlider, Button,\r\n",
        "    )\r\n",
        "from pathlib import Path\r\n",
        "from math import log\r\n",
        "\r\n",
        "logger = config_logger()"
      ],
      "execution_count": null,
      "outputs": []
    },
    {
      "cell_type": "markdown",
      "metadata": {
        "id": "YzxRCEvkmvZH"
      },
      "source": [
        "## Select experiment"
      ]
    },
    {
      "cell_type": "code",
      "metadata": {
        "id": "Hgp5xsqIj6nx"
      },
      "source": [
        "folder = Path('results', 'parameters_experiments')\r\n",
        "exp = Experiment(folder)\r\n",
        "\r\n",
        "logger.info(f'{CONTENT_WEIGHT}s = {exp.options(CONTENT_WEIGHT, **DEFAULTS)}')\r\n",
        "exp.image(**DEFAULTS)"
      ],
      "execution_count": null,
      "outputs": []
    },
    {
      "cell_type": "markdown",
      "metadata": {
        "id": "h7Zg1CYKmRmW"
      },
      "source": [
        "## Interactive tool"
      ]
    },
    {
      "cell_type": "code",
      "metadata": {
        "id": "b-dU8Br3kMMZ"
      },
      "source": [
        "%%capture\r\n",
        "# Styling\r\n",
        "def layout(visible):\r\n",
        "    return Layout(\r\n",
        "        width='100%', max_width='800px', height='20px',\r\n",
        "        visibility='visible' if visible else 'hidden',\r\n",
        "        )\r\n",
        "s = {'description_width': '100px'}\r\n",
        "\r\n",
        "# Initialize the widgets\r\n",
        "widgets = {}\r\n",
        "for p, v in DEFAULTS.items():\r\n",
        "    o = exp.options(p, **DEFAULTS)\r\n",
        "    visible = len(o)>1\r\n",
        "    if p in [PRE_TRAINING, AMSGRAD]:\r\n",
        "        widgets[p] = Checkbox(\r\n",
        "            value=v, layout=layout(visible), style=s,\r\n",
        "            )\r\n",
        "    else:\r\n",
        "        widgets[p] = SelectionSlider(\r\n",
        "            value=v, options=o, continuous_update=False, \r\n",
        "            layout=layout(visible), style=s,\r\n",
        "            )\r\n",
        "\r\n",
        "# Dynamically change the ranges on new values\r\n",
        "def update_ranges(*args):\r\n",
        "    logger.info(args)\r\n",
        "    kwargs = {k: w.value for k, w in widgets.items()}\r\n",
        "    for p, w in widgets.items():\r\n",
        "        w.unobserve(update_ranges, 'value')\r\n",
        "        o = exp.options(p, **kwargs)\r\n",
        "        visible = len(o)>1\r\n",
        "        if p not in [PRE_TRAINING, AMSGRAD]:\r\n",
        "            w.options = o\r\n",
        "            w.value = kwargs[p]\r\n",
        "        else:\r\n",
        "            w.layout = layout(visible)\r\n",
        "        w.observe(update_ranges, 'value')\r\n",
        "for w in widgets.values():\r\n",
        "    w.observe(update_ranges, 'value')\r\n",
        "\r\n",
        "# Plot function on change\r\n",
        "def replot(**kwargs):\r\n",
        "    # Image plot\r\n",
        "    ax_im.imshow(exp.image(**kwargs))\r\n",
        "    # Loss plot\r\n",
        "    ax_it.clear()\r\n",
        "    exp.loss_plot(**kwargs, ax=ax_it)\r\n",
        "    ax_it.set_yscale('log')\r\n",
        "    ratio = 1.8\r\n",
        "    xvals = (0, 1000)\r\n",
        "    ax_it.set_xlim(xvals)\r\n",
        "    yvals = ax_it.get_ylim()\r\n",
        "    _xrange = xvals[1]-xvals[0]\r\n",
        "    _yrange = log(yvals[1])-log(yvals[0])\r\n",
        "    ax_it.set_aspect(ratio*(_xrange/_yrange), adjustable='box')\r\n",
        "    #major grid lines\r\n",
        "    ax_it.grid(b=True, which='major', color='gray', alpha=0.6, ls='-.', lw=1.5)\r\n",
        "    #minor grid lines\r\n",
        "    ax_it.minorticks_on()\r\n",
        "    ax_it.grid(b=True, which='minor', color='beige', alpha=0.8, ls='-', lw=1)\r\n",
        "    # Draw everything\r\n",
        "    fig.canvas.draw()\r\n",
        "    display(fig)\r\n",
        "    return\r\n",
        "\r\n",
        "# Initialize plots\r\n",
        "fig = plt.figure()\r\n",
        "ax_im = fig.add_subplot(1,2,1) \r\n",
        "ax_im.imshow(exp.image(**DEFAULTS))\r\n",
        "plt.axis('off')\r\n",
        "ax_it = fig.add_subplot(1,2,2) \r\n",
        "\r\n",
        "\r\n",
        "# Save figure controls\r\n",
        "def savefig(fig, **kwargs):\r\n",
        "    if 'google.colab' in str(get_ipython()):\r\n",
        "        fig.savefig('tmp.png', **kwargs, bbox_inches=kwargs.get('bbox','tight'))\r\n",
        "        files.download('tmp.png')\r\n",
        "    else:\r\n",
        "        root = tk.Tk()\r\n",
        "        root.withdraw()\r\n",
        "        file_path = tk.filedialog.asksaveasfilename()\r\n",
        "        fig.savefig(file_path, **kwargs, bbox_inches=kwargs.get('bbox','tight'))\r\n",
        "    return 'Done'\r\n",
        "\r\n",
        "def savesubfig(ax, fig, expanded=(1.2, 1.2)):\r\n",
        "    bbox = ax.get_window_extent().transformed(fig.dpi_scale_trans.inverted())\r\n",
        "    return savefig(fig, bbox_inches=bbox.expanded(*expanded))\r\n",
        "\r\n",
        "b_im = Button(description=\"Save image\")\r\n",
        "b_im.on_click(lambda x: savesubfig(ax_im, fig, expanded=(1,1)))\r\n",
        "b_it = Button(description=\"Save graph\")\r\n",
        "b_it.on_click(lambda x: savesubfig(ax_it, fig))\r\n",
        "b_all = Button(description=\"Save all\")\r\n",
        "b_all.on_click(lambda x: savefig(ax_im.get_figure()))\r\n",
        "buttons = HBox([b_im, b_it, b_all])"
      ],
      "execution_count": null,
      "outputs": []
    },
    {
      "cell_type": "markdown",
      "metadata": {
        "id": "r2IurW_lmfaq"
      },
      "source": [
        "# Playground"
      ]
    },
    {
      "cell_type": "code",
      "metadata": {
        "id": "shD0KM4s5v41"
      },
      "source": [
        "interact(replot, **widgets)\r\n",
        "display(buttons)"
      ],
      "execution_count": null,
      "outputs": []
    }
  ]
}