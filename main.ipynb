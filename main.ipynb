{
 "metadata": {
  "language_info": {
   "codemirror_mode": {
    "name": "ipython",
    "version": 3
   },
   "file_extension": ".py",
   "mimetype": "text/x-python",
   "name": "python",
   "nbconvert_exporter": "python",
   "pygments_lexer": "ipython3",
   "version": 3
  },
  "orig_nbformat": 2
 },
 "nbformat": 4,
 "nbformat_minor": 2,
 "cells": [
  {
   "cell_type": "code",
   "execution_count": null,
   "metadata": {},
   "outputs": [],
   "source": [
    "from pathlib import Path\n",
    "from datetime import datetime\n",
    "\n",
    "from style_transfer import run_style_transfer\n",
    "from style_transfer.config import STYLE_FOLDER, CONTENT_FOLDER, OUTPUT_FOLDER\n",
    "from style_transfer._logging import config_logger\n",
    "\n",
    "# Create output folder\n",
    "run_folder = Path(OUTPUT_FOLDER, datetime.now().strftime('%Y%m%d_%H%M%S'))\n",
    "run_folder.mkdir(parents=True,exist_ok=True)\n",
    "\n",
    "logger = config_logger(output_folder=OUTPUT_FOLDER)\n",
    "\n",
    "logger.info('Start run')\n",
    "\n",
    "for content_path in CONTENT_FOLDER.iterdir():\n",
    "    if not content_path.is_file():\n",
    "        continue\n",
    "    for style_path in STYLE_FOLDER.iterdir():\n",
    "        if not style_path.is_file():\n",
    "            continue\n",
    "        logger.info(\n",
    "            'Start style transfer:'\n",
    "            f'\\ncontent:{content_path}\\nstyle:{style_path}'\n",
    "            )\n",
    "        run_style_transfer(\n",
    "            content_path=content_path,\n",
    "            style_path=style_path,\n",
    "            output_folder=run_folder, \n",
    "            num_iterations=2,\n",
    "            content_weight=1e3, \n",
    "            style_weight=1e-2,\n",
    "            )\n",
    "            \n",
    "logger.info('Finished run')"
   ]
  }
 ]
}